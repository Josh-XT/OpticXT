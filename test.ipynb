{
 "cells": [
  {
   "cell_type": "code",
   "execution_count": 2,
   "id": "c6a68489",
   "metadata": {},
   "outputs": [
    {
     "name": "stdout",
     "output_type": "stream",
     "text": [
      "Tokens: 54891\n"
     ]
    }
   ],
   "source": [
    "import os\n",
    "import tiktoken\n",
    "\n",
    "\n",
    "def codebase_to_md(directory):\n",
    "    rs_files = []\n",
    "    toml_files = []\n",
    "    json_files = []\n",
    "    md_files = []\n",
    "    output_file = \"output.md\"\n",
    "    if os.path.exists(output_file):\n",
    "        os.remove(output_file)\n",
    "    for root, dirs, files in os.walk(directory):\n",
    "        for file in files:\n",
    "            if \"target\" in root or \"target\" in file:\n",
    "                continue\n",
    "            if \"models\" in root or \"models\" in file:\n",
    "                continue\n",
    "            if \".vscode\" in root or \".vscode\" in file:\n",
    "                continue\n",
    "            if \"Cargo.lock\" in file:\n",
    "                continue\n",
    "            if file.endswith(\".rs\"):\n",
    "                rs_files.append(os.path.join(root, file))\n",
    "            elif file.endswith(\".toml\"):\n",
    "                toml_files.append(os.path.join(root, file))\n",
    "            elif file.endswith(\".json\"):\n",
    "                json_files.append(os.path.join(root, file))\n",
    "            elif file.endswith(\".md\"):\n",
    "                md_files.append(os.path.join(root, file))\n",
    "\n",
    "    if os.path.exists(output_file):\n",
    "        os.remove(output_file)\n",
    "\n",
    "    with open(output_file, \"w\", encoding=\"utf-8\") as markdown_file:\n",
    "        for file_paths, file_type in [\n",
    "            (rs_files, \"rust\" if rs_files else None),\n",
    "            (toml_files, \"toml\" if toml_files else None),\n",
    "            (json_files, \"json\" if json_files else None),\n",
    "            (md_files, \"markdown\" if md_files else None),\n",
    "        ]:\n",
    "            for file_path in file_paths:\n",
    "                # Make sure the file isn't output.md\n",
    "                if output_file in file_path:\n",
    "                    continue\n",
    "                markdown_file.write(f\"**{file_path}**\\n\")\n",
    "                with open(file_path, \"r\", encoding=\"utf-8\") as code_file:\n",
    "                    content = code_file.read()\n",
    "                    markdown_file.write(f\"```{file_type}\\n{content}\\n```\\n\\n\")\n",
    "    with open(output_file, \"r\", encoding=\"utf-8\") as markdown_file:\n",
    "        content = markdown_file.read()\n",
    "    content = content.replace(\"<|endoftext|>\", \"\")\n",
    "    encoding = tiktoken.get_encoding(\"cl100k_base\")\n",
    "    tokens = len(encoding.encode(content))\n",
    "    return content, tokens\n",
    "\n",
    "\n",
    "directory = \".\"  # Replace with your folder path\n",
    "content, tokens = codebase_to_md(directory)\n",
    "print(f\"Tokens: {tokens}\")"
   ]
  }
 ],
 "metadata": {
  "kernelspec": {
   "display_name": "Python 3",
   "language": "python",
   "name": "python3"
  },
  "language_info": {
   "codemirror_mode": {
    "name": "ipython",
    "version": 3
   },
   "file_extension": ".py",
   "mimetype": "text/x-python",
   "name": "python",
   "nbconvert_exporter": "python",
   "pygments_lexer": "ipython3",
   "version": "3.10.18"
  }
 },
 "nbformat": 4,
 "nbformat_minor": 5
}
